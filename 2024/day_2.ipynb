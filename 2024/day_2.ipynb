{
 "cells": [
  {
   "cell_type": "code",
   "execution_count": 2,
   "id": "9cd2e870",
   "metadata": {},
   "outputs": [],
   "source": [
    "data = open(\"input_2.txt\",\"r\").readlines()"
   ]
  },
  {
   "cell_type": "code",
   "execution_count": 3,
   "id": "1a9a2ff5",
   "metadata": {},
   "outputs": [],
   "source": [
    "data = [[int(x) for x in line.strip().split()] for line in data]"
   ]
  },
  {
   "cell_type": "code",
   "execution_count": 27,
   "id": "fa983fbc",
   "metadata": {},
   "outputs": [],
   "source": [
    "def delta_conformity(report):\n",
    "    for n in range(len(report) - 1):\n",
    "        diff = abs(report[n] - report[n+1])\n",
    "        if diff > 3 or diff == 0:\n",
    "            return False\n",
    "    return True\n"
   ]
  },
  {
   "cell_type": "code",
   "execution_count": 28,
   "id": "00e68177",
   "metadata": {},
   "outputs": [
    {
     "data": {
      "text/plain": [
       "False"
      ]
     },
     "execution_count": 28,
     "metadata": {},
     "output_type": "execute_result"
    }
   ],
   "source": [
    "delta_conformity([1,2,3,3,4])"
   ]
  },
  {
   "cell_type": "code",
   "execution_count": 29,
   "id": "4fa41a83",
   "metadata": {},
   "outputs": [],
   "source": [
    "def sorting_conformity(report):\n",
    "    return sorted(report) == report or sorted(report,reverse = True) == report"
   ]
  },
  {
   "cell_type": "code",
   "execution_count": 73,
   "id": "162edc39",
   "metadata": {},
   "outputs": [],
   "source": [
    "def count_conform(data):\n",
    "    return sum(sorting_conformity(report) and delta_conformity(report) for report in data)"
   ]
  },
  {
   "cell_type": "code",
   "execution_count": 74,
   "id": "77fe8867",
   "metadata": {},
   "outputs": [
    {
     "data": {
      "text/plain": [
       "257"
      ]
     },
     "execution_count": 74,
     "metadata": {},
     "output_type": "execute_result"
    }
   ],
   "source": [
    "count_conform(data)"
   ]
  },
  {
   "cell_type": "code",
   "execution_count": null,
   "id": "84d15e11",
   "metadata": {},
   "outputs": [],
   "source": [
    "def possibilities(report):\n",
    "    return [report[:n] + report[n+1:] for n in range(len(report)+1)]\n",
    "modulo_1 = [[i,y] for i, report in enumerate(data) for y in possibilities(report)]\n",
    "indices,result = zip(*modulo_1)\n",
    "indices = list(indices)\n",
    "result = list(result)\n",
    "conformity = [sorting_conformity(report) and delta_conformity(report) for report in result] \n",
    "filtered = [indice for ok,indice in zip(conformity,indices) if ok]\n",
    "len(set(filtered))"
   ]
  },
  {
   "cell_type": "code",
   "execution_count": 107,
   "id": "43ec3b9b",
   "metadata": {},
   "outputs": [
    {
     "name": "stdout",
     "output_type": "stream",
     "text": [
      "328\n"
     ]
    }
   ],
   "source": [
    "# Chat gpt answer\n",
    "def is_sorted(report):\n",
    "    return report == sorted(report) or report == sorted(report, reverse=True)\n",
    "\n",
    "def is_delta_ok(report):\n",
    "    return all(1 <= abs(a - b) <= 3 for a, b in zip(report, report[1:]))\n",
    "\n",
    "def is_conforming(report):\n",
    "    return is_sorted(report) and is_delta_ok(report)\n",
    "\n",
    "safe_count = 0\n",
    "\n",
    "for report in data:\n",
    "    if is_conforming(report):\n",
    "        safe_count += 1\n",
    "    else:\n",
    "        # Try removing each level once\n",
    "        if any(is_conforming(report[:i] + report[i+1:]) for i in range(len(report))):\n",
    "            safe_count += 1\n",
    "\n",
    "print(safe_count)\n"
   ]
  },
  {
   "cell_type": "code",
   "execution_count": null,
   "id": "6f9197fc",
   "metadata": {},
   "outputs": [],
   "source": []
  },
  {
   "cell_type": "code",
   "execution_count": null,
   "id": "c6e30656",
   "metadata": {},
   "outputs": [],
   "source": []
  },
  {
   "cell_type": "code",
   "execution_count": 97,
   "id": "336e4784",
   "metadata": {},
   "outputs": [
    {
     "data": {
      "text/plain": [
       "7501"
      ]
     },
     "execution_count": 97,
     "metadata": {},
     "output_type": "execute_result"
    }
   ],
   "source": [
    "len(indices)"
   ]
  },
  {
   "cell_type": "code",
   "execution_count": null,
   "id": "3c26dae8",
   "metadata": {},
   "outputs": [],
   "source": []
  },
  {
   "cell_type": "code",
   "execution_count": 106,
   "id": "58b83d6a",
   "metadata": {},
   "outputs": [
    {
     "data": {
      "text/plain": [
       "328"
      ]
     },
     "execution_count": 106,
     "metadata": {},
     "output_type": "execute_result"
    }
   ],
   "source": [
    "len(set(filtered))"
   ]
  },
  {
   "cell_type": "code",
   "execution_count": null,
   "id": "0d9f1675",
   "metadata": {},
   "outputs": [],
   "source": []
  }
 ],
 "metadata": {
  "kernelspec": {
   "display_name": "3.10.6",
   "language": "python",
   "name": "python3"
  },
  "language_info": {
   "codemirror_mode": {
    "name": "ipython",
    "version": 3
   },
   "file_extension": ".py",
   "mimetype": "text/x-python",
   "name": "python",
   "nbconvert_exporter": "python",
   "pygments_lexer": "ipython3",
   "version": "3.10.6"
  }
 },
 "nbformat": 4,
 "nbformat_minor": 5
}
