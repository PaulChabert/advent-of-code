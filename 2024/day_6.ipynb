{
 "cells": [
  {
   "cell_type": "code",
   "execution_count": 2,
   "id": "06ce8fbe",
   "metadata": {},
   "outputs": [],
   "source": [
    "data = \"\"\"....#.....\n",
    ".........#\n",
    "..........\n",
    "..#.......\n",
    ".......#..\n",
    "..........\n",
    ".#..^.....\n",
    "........#.\n",
    "#.........\n",
    "......#...\n",
    "\"\"\""
   ]
  },
  {
   "cell_type": "code",
   "execution_count": 6,
   "id": "582a88a9",
   "metadata": {},
   "outputs": [],
   "source": [
    "data = data.split()"
   ]
  },
  {
   "cell_type": "code",
   "execution_count": 10,
   "id": "fc013aef",
   "metadata": {},
   "outputs": [
    {
     "data": {
      "text/plain": [
       "-1"
      ]
     },
     "execution_count": 10,
     "metadata": {},
     "output_type": "execute_result"
    }
   ],
   "source": [
    "data[6].find('§')"
   ]
  },
  {
   "cell_type": "code",
   "execution_count": 27,
   "id": "15c9eca8",
   "metadata": {},
   "outputs": [],
   "source": [
    "grid = data.copy()"
   ]
  },
  {
   "cell_type": "code",
   "execution_count": 19,
   "id": "d3f4c812",
   "metadata": {},
   "outputs": [],
   "source": [
    "start_position = next(((x, line.find('^')) for x, line in enumerate(data) if '^' in line), None)"
   ]
  },
  {
   "cell_type": "code",
   "execution_count": null,
   "id": "d855dc83",
   "metadata": {},
   "outputs": [
    {
     "data": {
      "text/plain": [
       "(6, 4)"
      ]
     },
     "execution_count": 21,
     "metadata": {},
     "output_type": "execute_result"
    }
   ],
   "source": [
    "start_position"
   ]
  },
  {
   "cell_type": "code",
   "execution_count": null,
   "id": "34177188",
   "metadata": {},
   "outputs": [],
   "source": [
    "\n",
    "deltas = {\n",
    "    \"^\": [(-1, 0),\">\"],\n",
    "    \">\": [(0, 1),\"V\"],\n",
    "    \"V\": [(1, 0),\"<\"],\n",
    "    \"<\": [(0, -1),\"^\"]\n",
    "}\n",
    "\n",
    "actual_position = start_position\n",
    "ax,ay = actual_position\n",
    "len_x = len(grid)\n",
    "len_y = len(grid)\n",
    "\n",
    "dx,dy = deltas[grid[ax][ay]]\n",
    "nx,ny = (ax + dx, ay + dy)\n",
    "\n",
    "if 0 <= nx <= len_x and 0 <= ny <= len_y:\n",
    "    if grid[nx][ny] == \"#\":\n",
    "        grid[a]\n",
    "else:\n",
    "    \"Soldat out!\"\n",
    "    "
   ]
  },
  {
   "cell_type": "code",
   "execution_count": 29,
   "id": "9a798212",
   "metadata": {},
   "outputs": [
    {
     "data": {
      "text/plain": [
       "5"
      ]
     },
     "execution_count": 29,
     "metadata": {},
     "output_type": "execute_result"
    }
   ],
   "source": [
    "nx"
   ]
  },
  {
   "cell_type": "code",
   "execution_count": null,
   "id": "eda6e3c2",
   "metadata": {},
   "outputs": [],
   "source": []
  }
 ],
 "metadata": {
  "kernelspec": {
   "display_name": "3.10.6",
   "language": "python",
   "name": "python3"
  },
  "language_info": {
   "codemirror_mode": {
    "name": "ipython",
    "version": 3
   },
   "file_extension": ".py",
   "mimetype": "text/x-python",
   "name": "python",
   "nbconvert_exporter": "python",
   "pygments_lexer": "ipython3",
   "version": "3.10.6"
  }
 },
 "nbformat": 4,
 "nbformat_minor": 5
}
